{
  "nbformat": 4,
  "nbformat_minor": 0,
  "metadata": {
    "colab": {
      "provenance": [],
      "authorship_tag": "ABX9TyMpziGjA+1SQcRazlgRf+Qo",
      "include_colab_link": true
    },
    "kernelspec": {
      "name": "python3",
      "display_name": "Python 3"
    },
    "language_info": {
      "name": "python"
    }
  },
  "cells": [
    {
      "cell_type": "markdown",
      "metadata": {
        "id": "view-in-github",
        "colab_type": "text"
      },
      "source": [
        "<a href=\"https://colab.research.google.com/github/YacineGhenabzia/tps_big_data/blob/main/tp3_big_data.ipynb\" target=\"_parent\"><img src=\"https://colab.research.google.com/assets/colab-badge.svg\" alt=\"Open In Colab\"/></a>"
      ]
    },
    {
      "cell_type": "code",
      "execution_count": null,
      "metadata": {
        "colab": {
          "base_uri": "https://localhost:8080/"
        },
        "id": "2hi7LrRjKf54",
        "outputId": "4f7a44fe-cf8f-4821-8029-7807e4f52b3c"
      },
      "outputs": [
        {
          "output_type": "stream",
          "name": "stdout",
          "text": [
            "Drive already mounted at /content/drive; to attempt to forcibly remount, call drive.mount(\"/content/drive\", force_remount=True).\n"
          ]
        }
      ],
      "source": [
        "from google.colab import drive\n",
        "drive.mount('/content/drive')\n"
      ]
    },
    {
      "cell_type": "code",
      "source": [
        "from google.colab import files\n",
        "\n",
        "uploaded = files.upload()\n"
      ],
      "metadata": {
        "colab": {
          "base_uri": "https://localhost:8080/",
          "height": 73
        },
        "id": "rN7L8J7NWtTH",
        "outputId": "c812fe23-6b88-4b5a-cf2e-530783a0275c"
      },
      "execution_count": null,
      "outputs": [
        {
          "output_type": "display_data",
          "data": {
            "text/plain": [
              "<IPython.core.display.HTML object>"
            ],
            "text/html": [
              "\n",
              "     <input type=\"file\" id=\"files-3cda85ba-9d7a-4876-8994-61c8b3873f0b\" name=\"files[]\" multiple disabled\n",
              "        style=\"border:none\" />\n",
              "     <output id=\"result-3cda85ba-9d7a-4876-8994-61c8b3873f0b\">\n",
              "      Upload widget is only available when the cell has been executed in the\n",
              "      current browser session. Please rerun this cell to enable.\n",
              "      </output>\n",
              "      <script>// Copyright 2017 Google LLC\n",
              "//\n",
              "// Licensed under the Apache License, Version 2.0 (the \"License\");\n",
              "// you may not use this file except in compliance with the License.\n",
              "// You may obtain a copy of the License at\n",
              "//\n",
              "//      http://www.apache.org/licenses/LICENSE-2.0\n",
              "//\n",
              "// Unless required by applicable law or agreed to in writing, software\n",
              "// distributed under the License is distributed on an \"AS IS\" BASIS,\n",
              "// WITHOUT WARRANTIES OR CONDITIONS OF ANY KIND, either express or implied.\n",
              "// See the License for the specific language governing permissions and\n",
              "// limitations under the License.\n",
              "\n",
              "/**\n",
              " * @fileoverview Helpers for google.colab Python module.\n",
              " */\n",
              "(function(scope) {\n",
              "function span(text, styleAttributes = {}) {\n",
              "  const element = document.createElement('span');\n",
              "  element.textContent = text;\n",
              "  for (const key of Object.keys(styleAttributes)) {\n",
              "    element.style[key] = styleAttributes[key];\n",
              "  }\n",
              "  return element;\n",
              "}\n",
              "\n",
              "// Max number of bytes which will be uploaded at a time.\n",
              "const MAX_PAYLOAD_SIZE = 100 * 1024;\n",
              "\n",
              "function _uploadFiles(inputId, outputId) {\n",
              "  const steps = uploadFilesStep(inputId, outputId);\n",
              "  const outputElement = document.getElementById(outputId);\n",
              "  // Cache steps on the outputElement to make it available for the next call\n",
              "  // to uploadFilesContinue from Python.\n",
              "  outputElement.steps = steps;\n",
              "\n",
              "  return _uploadFilesContinue(outputId);\n",
              "}\n",
              "\n",
              "// This is roughly an async generator (not supported in the browser yet),\n",
              "// where there are multiple asynchronous steps and the Python side is going\n",
              "// to poll for completion of each step.\n",
              "// This uses a Promise to block the python side on completion of each step,\n",
              "// then passes the result of the previous step as the input to the next step.\n",
              "function _uploadFilesContinue(outputId) {\n",
              "  const outputElement = document.getElementById(outputId);\n",
              "  const steps = outputElement.steps;\n",
              "\n",
              "  const next = steps.next(outputElement.lastPromiseValue);\n",
              "  return Promise.resolve(next.value.promise).then((value) => {\n",
              "    // Cache the last promise value to make it available to the next\n",
              "    // step of the generator.\n",
              "    outputElement.lastPromiseValue = value;\n",
              "    return next.value.response;\n",
              "  });\n",
              "}\n",
              "\n",
              "/**\n",
              " * Generator function which is called between each async step of the upload\n",
              " * process.\n",
              " * @param {string} inputId Element ID of the input file picker element.\n",
              " * @param {string} outputId Element ID of the output display.\n",
              " * @return {!Iterable<!Object>} Iterable of next steps.\n",
              " */\n",
              "function* uploadFilesStep(inputId, outputId) {\n",
              "  const inputElement = document.getElementById(inputId);\n",
              "  inputElement.disabled = false;\n",
              "\n",
              "  const outputElement = document.getElementById(outputId);\n",
              "  outputElement.innerHTML = '';\n",
              "\n",
              "  const pickedPromise = new Promise((resolve) => {\n",
              "    inputElement.addEventListener('change', (e) => {\n",
              "      resolve(e.target.files);\n",
              "    });\n",
              "  });\n",
              "\n",
              "  const cancel = document.createElement('button');\n",
              "  inputElement.parentElement.appendChild(cancel);\n",
              "  cancel.textContent = 'Cancel upload';\n",
              "  const cancelPromise = new Promise((resolve) => {\n",
              "    cancel.onclick = () => {\n",
              "      resolve(null);\n",
              "    };\n",
              "  });\n",
              "\n",
              "  // Wait for the user to pick the files.\n",
              "  const files = yield {\n",
              "    promise: Promise.race([pickedPromise, cancelPromise]),\n",
              "    response: {\n",
              "      action: 'starting',\n",
              "    }\n",
              "  };\n",
              "\n",
              "  cancel.remove();\n",
              "\n",
              "  // Disable the input element since further picks are not allowed.\n",
              "  inputElement.disabled = true;\n",
              "\n",
              "  if (!files) {\n",
              "    return {\n",
              "      response: {\n",
              "        action: 'complete',\n",
              "      }\n",
              "    };\n",
              "  }\n",
              "\n",
              "  for (const file of files) {\n",
              "    const li = document.createElement('li');\n",
              "    li.append(span(file.name, {fontWeight: 'bold'}));\n",
              "    li.append(span(\n",
              "        `(${file.type || 'n/a'}) - ${file.size} bytes, ` +\n",
              "        `last modified: ${\n",
              "            file.lastModifiedDate ? file.lastModifiedDate.toLocaleDateString() :\n",
              "                                    'n/a'} - `));\n",
              "    const percent = span('0% done');\n",
              "    li.appendChild(percent);\n",
              "\n",
              "    outputElement.appendChild(li);\n",
              "\n",
              "    const fileDataPromise = new Promise((resolve) => {\n",
              "      const reader = new FileReader();\n",
              "      reader.onload = (e) => {\n",
              "        resolve(e.target.result);\n",
              "      };\n",
              "      reader.readAsArrayBuffer(file);\n",
              "    });\n",
              "    // Wait for the data to be ready.\n",
              "    let fileData = yield {\n",
              "      promise: fileDataPromise,\n",
              "      response: {\n",
              "        action: 'continue',\n",
              "      }\n",
              "    };\n",
              "\n",
              "    // Use a chunked sending to avoid message size limits. See b/62115660.\n",
              "    let position = 0;\n",
              "    do {\n",
              "      const length = Math.min(fileData.byteLength - position, MAX_PAYLOAD_SIZE);\n",
              "      const chunk = new Uint8Array(fileData, position, length);\n",
              "      position += length;\n",
              "\n",
              "      const base64 = btoa(String.fromCharCode.apply(null, chunk));\n",
              "      yield {\n",
              "        response: {\n",
              "          action: 'append',\n",
              "          file: file.name,\n",
              "          data: base64,\n",
              "        },\n",
              "      };\n",
              "\n",
              "      let percentDone = fileData.byteLength === 0 ?\n",
              "          100 :\n",
              "          Math.round((position / fileData.byteLength) * 100);\n",
              "      percent.textContent = `${percentDone}% done`;\n",
              "\n",
              "    } while (position < fileData.byteLength);\n",
              "  }\n",
              "\n",
              "  // All done.\n",
              "  yield {\n",
              "    response: {\n",
              "      action: 'complete',\n",
              "    }\n",
              "  };\n",
              "}\n",
              "\n",
              "scope.google = scope.google || {};\n",
              "scope.google.colab = scope.google.colab || {};\n",
              "scope.google.colab._files = {\n",
              "  _uploadFiles,\n",
              "  _uploadFilesContinue,\n",
              "};\n",
              "})(self);\n",
              "</script> "
            ]
          },
          "metadata": {}
        },
        {
          "output_type": "stream",
          "name": "stdout",
          "text": [
            "Saving kaggle (3).json to kaggle (3).json\n"
          ]
        }
      ]
    },
    {
      "cell_type": "code",
      "source": [
        "import os\n",
        "\n",
        "os.listdir()\n"
      ],
      "metadata": {
        "colab": {
          "base_uri": "https://localhost:8080/"
        },
        "id": "bJV8PtOybylF",
        "outputId": "251613f5-b4d0-40b3-a4f4-da8586ec0795"
      },
      "execution_count": null,
      "outputs": [
        {
          "output_type": "execute_result",
          "data": {
            "text/plain": [
              "['.config',\n",
              " 'drive',\n",
              " '.kaggle',\n",
              " '.ipynb_checkpoints',\n",
              " 'kaggle (3).json',\n",
              " 'kaggle .json',\n",
              " 'sample_data']"
            ]
          },
          "metadata": {},
          "execution_count": 23
        }
      ]
    },
    {
      "cell_type": "code",
      "source": [
        "import os\n",
        "import shutil\n",
        "file_name = \"kaggle (3).json\"\n",
        "\n",
        "os.makedirs(\"/root/.kaggle\", exist_ok=True)\n",
        "\n",
        "shutil.move(file_name, \"/root/.kaggle/kaggle.json\")\n",
        "\n",
        "os.chmod(\"/root/.kaggle/kaggle.json\", 600)\n",
        "\n",
        "print(\"✅ تم إعداد مفتاح API بنجاح!\")\n"
      ],
      "metadata": {
        "colab": {
          "base_uri": "https://localhost:8080/"
        },
        "id": "vDBfrEZ_X8TP",
        "outputId": "9265e59a-1f43-43aa-88a8-8002fa6bdfb4"
      },
      "execution_count": null,
      "outputs": [
        {
          "output_type": "stream",
          "name": "stdout",
          "text": [
            "✅ تم إعداد مفتاح API بنجاح!\n"
          ]
        }
      ]
    },
    {
      "cell_type": "code",
      "source": [
        "!kaggle datasets download -d sachingupta26/dummy-sales-data --unzip -p /content/\n"
      ],
      "metadata": {
        "colab": {
          "base_uri": "https://localhost:8080/"
        },
        "id": "1zh-7ETcc_7t",
        "outputId": "8e342770-3c80-4ff7-d39a-6b45aa1b5695"
      },
      "execution_count": null,
      "outputs": [
        {
          "output_type": "stream",
          "name": "stdout",
          "text": [
            "Dataset URL: https://www.kaggle.com/datasets/sachingupta26/dummy-sales-data\n",
            "License(s): unknown\n",
            "Downloading dummy-sales-data.zip to /content\n",
            "100% 6.22G/6.22G [01:14<00:00, 160MB/s]\n",
            "100% 6.22G/6.22G [01:14<00:00, 90.1MB/s]\n"
          ]
        }
      ]
    },
    {
      "cell_type": "code",
      "source": [
        "import pandas as pd\n",
        "\n",
        "file_path = \"/content/sales_cleaned.csv\"\n",
        "data = pd.read_csv(file_path)\n",
        "\n",
        "print(\"\\n البيانات قبل إزالة التكرارات:\\n\", data)\n",
        "\n",
        "data.drop_duplicates(inplace=True)\n",
        "\n",
        "print(\"\\n بعد إزالة التكرارات:\\n\", data)\n",
        "\n",
        "data.to_csv(\"/content/sales_cleaned1.csv\", index=False)\n"
      ],
      "metadata": {
        "id": "glKnyV3iuN8X"
      },
      "execution_count": null,
      "outputs": []
    },
    {
      "cell_type": "code",
      "source": [
        "import pandas as pd\n",
        "import shutil\n",
        "\n",
        "file_path = \"/content/sales_cleaned.csv\"\n",
        "\n",
        "temp_file = \"/content/sales_cleaned1.csv\"\n",
        "\n",
        "with open(temp_file, 'w') as f_out:\n",
        "    first_chunk = True\n",
        "\n",
        "    for chunk in pd.read_csv(file_path, chunksize=10000):\n",
        "        chunk_cleaned = chunk.drop_duplicates()\n",
        "\n",
        "        chunk_cleaned.to_csv(f_out, index=False, header=first_chunk, mode='a')\n",
        "        first_chunk = False\n",
        "\n",
        "shutil.move(temp_file, file_path)\n",
        "\n",
        "print(f\" تم حذف القيم المكررة وحفظ التعديلات في نفس الملف: {file_path}\")\n"
      ],
      "metadata": {
        "colab": {
          "base_uri": "https://localhost:8080/"
        },
        "id": "XarQP6ZEyizZ",
        "outputId": "c47b7af7-69b3-49fd-a49e-a10c3a62c87f"
      },
      "execution_count": null,
      "outputs": [
        {
          "output_type": "stream",
          "name": "stdout",
          "text": [
            " تم حذف القيم المكررة وحفظ التعديلات في نفس الملف: /content/sales_cleaned.csv\n"
          ]
        }
      ]
    },
    {
      "cell_type": "code",
      "source": [
        "import pandas as pd\n",
        "\n",
        "chunk_size = 10000\n",
        "\n",
        "file_path = \"/content/sales_cleaned.csv\"\n",
        "chunk_iterator = pd.read_csv(file_path, chunksize=chunk_size)\n",
        "\n",
        "first_chunk = next(chunk_iterator)\n",
        "print(first_chunk.head())\n"
      ],
      "metadata": {
        "colab": {
          "base_uri": "https://localhost:8080/"
        },
        "id": "uxFr4kcc9MLF",
        "outputId": "067fb6f9-8e96-41ef-cb0e-11d8a0c2ea8f"
      },
      "execution_count": null,
      "outputs": [
        {
          "output_type": "stream",
          "name": "stdout",
          "text": [
            "   order_id  product_id  seller_id        date  num_pieces_sold  \\\n",
            "0         1           0          0  2022-07-10               62   \n",
            "1         2           0          0  2022-07-07               38   \n",
            "2         3           0          0  2022-07-05               13   \n",
            "3         4           0          0  2022-07-06               94   \n",
            "4         5           0          0  2022-07-02               41   \n",
            "\n",
            "                                       bill_raw_text  \n",
            "0  esctmitgntlqljxnCgkeaxrxsxcsaoobokgluqezwdbekx...  \n",
            "1  cufiduzyskiviokjuoyvfxuvqmbemdsbltrgfvquyfwyhi...  \n",
            "2  hscngebsortzolelfobyxyiqhrfclbxcmgiyboeekdtRir...  \n",
            "3  jxhvzoobncxwzkpdldsrbdjzmumctexxwtyujfemrjlool...  \n",
            "4  nqazvvrqffccuwzprmofgxgUrmoozzargmvjwimtclwvdh...  \n"
          ]
        }
      ]
    },
    {
      "cell_type": "code",
      "source": [
        "import pandas as pd\n",
        "import shutil\n",
        "\n",
        "file_path = \"/content/sales_cleaned.csv\"\n",
        "\n",
        "temp_file = \"/content/sales_cleaned1.csv\"\n",
        "\n",
        "with open(temp_file, 'w') as f_out:\n",
        "    first_chunk = True\n",
        "\n",
        "    for chunk in pd.read_csv(file_path, chunksize=20000):\n",
        "        if 'date' in chunk.columns:\n",
        "            chunk['date'] = pd.to_datetime(chunk['date'], errors='coerce')\n",
        "\n",
        "        chunk.to_csv(f_out, index=False, header=first_chunk, mode='a')\n",
        "        first_chunk = False\n",
        "\n",
        "shutil.move(temp_file, file_path)\n",
        "\n",
        "print(f\" تم تحويل عمود التاريخ إلى datetime وحفظ التعديلات في نفس الملف: {file_path}\")\n"
      ],
      "metadata": {
        "colab": {
          "base_uri": "https://localhost:8080/"
        },
        "id": "XItMau1H9wzB",
        "outputId": "7a6a0cc4-3fa1-4e99-d569-5252dfa943dc"
      },
      "execution_count": null,
      "outputs": [
        {
          "output_type": "stream",
          "name": "stdout",
          "text": [
            " تم تحويل عمود التاريخ إلى datetime وحفظ التعديلات في نفس الملف: /content/sales_cleaned.csv\n"
          ]
        }
      ]
    },
    {
      "cell_type": "code",
      "source": [
        "import pandas as pd\n",
        "\n",
        "chunk_size = 10000\n",
        "\n",
        "file_path = \"/content/sales_cleaned.csv\"\n",
        "chunk_iterator = pd.read_csv(file_path, chunksize=chunk_size)\n",
        "\n",
        "first_chunk = next(chunk_iterator)\n",
        "print(first_chunk.head())\n"
      ],
      "metadata": {
        "colab": {
          "base_uri": "https://localhost:8080/"
        },
        "id": "VaNkJPvTA6uc",
        "outputId": "7ad9d832-6981-4b22-bcf1-cc289f44dde6"
      },
      "execution_count": null,
      "outputs": [
        {
          "output_type": "stream",
          "name": "stdout",
          "text": [
            "   order_id  product_id  seller_id        date  num_pieces_sold  \\\n",
            "0         1           0          0  2022-07-10               62   \n",
            "1         2           0          0  2022-07-07               38   \n",
            "2         3           0          0  2022-07-05               13   \n",
            "3         4           0          0  2022-07-06               94   \n",
            "4         5           0          0  2022-07-02               41   \n",
            "\n",
            "                                       bill_raw_text  \n",
            "0  esctmitgntlqljxnCgkeaxrxsxcsaoobokgluqezwdbekx...  \n",
            "1  cufiduzyskiviokjuoyvfxuvqmbemdsbltrgfvquyfwyhi...  \n",
            "2  hscngebsortzolelfobyxyiqhrfclbxcmgiyboeekdtRir...  \n",
            "3  jxhvzoobncxwzkpdldsrbdjzmumctexxwtyujfemrjlool...  \n",
            "4  nqazvvrqffccuwzprmofgxgUrmoozzargmvjwimtclwvdh...  \n"
          ]
        }
      ]
    },
    {
      "cell_type": "code",
      "source": [],
      "metadata": {
        "id": "7D0amXbqtAZw"
      },
      "execution_count": null,
      "outputs": []
    },
    {
      "cell_type": "code",
      "source": [
        "import pandas as pd\n",
        "\n",
        "file_path = \"/content/sales_cleaned.csv\"\n",
        "\n",
        "chunk_size = 20000\n",
        "\n",
        "all_values = []\n",
        "\n",
        "for chunk in pd.read_csv(file_path, chunksize=chunk_size):\n",
        "    if 'num_pieces_sold' in chunk.columns:\n",
        "        all_values.extend(chunk['num_pieces_sold'].dropna().tolist())\n",
        "\n",
        "Q1 = pd.Series(all_values).quantile(0.25)\n",
        "Q3 = pd.Series(all_values).quantile(0.75)\n",
        "IQR = Q3 - Q1\n",
        "\n",
        "lower_bound = Q1 - 1.5 * IQR\n",
        "upper_bound = Q3 + 1.5 * IQR\n",
        "\n",
        "temp_file = \"/content/sales_cleaned1.csv\"\n",
        "\n",
        "with open(temp_file, 'w') as f_out:\n",
        "    first_chunk = True\n",
        "\n",
        "    for chunk in pd.read_csv(file_path, chunksize=chunk_size):\n",
        "        if 'num_pieces_sold' in chunk.columns:\n",
        "            chunk = chunk[(chunk['num_pieces_sold'] >= lower_bound) & (chunk['num_pieces_sold'] <= upper_bound)]\n",
        "\n",
        "        chunk.to_csv(f_out, index=False, header=first_chunk, mode='a')\n",
        "        first_chunk = False\n",
        "\n",
        "print(f\" تم إزالة القيم المتطرفة وحفظ البيانات النظيفة في: {temp_file}\")\n"
      ],
      "metadata": {
        "colab": {
          "base_uri": "https://localhost:8080/"
        },
        "id": "qs_OsjYRYk6O",
        "outputId": "1618abcf-63c5-49fb-cd93-34a31a3b2352"
      },
      "execution_count": null,
      "outputs": [
        {
          "output_type": "stream",
          "name": "stdout",
          "text": [
            " تم إزالة القيم المتطرفة وحفظ البيانات النظيفة في: /content/sales_cleaned1.csv\n"
          ]
        }
      ]
    },
    {
      "cell_type": "code",
      "source": [
        "import pandas as pd\n",
        "\n",
        "chunk_size = 20000\n",
        "\n",
        "for chunk in pd.read_csv('sales_cleaned.csv', chunksize=chunk_size):\n",
        "    if 'sales' in chunk.columns:\n",
        "        print(\" العمود 'sales' موجود في إحدى الدُفعات.\")\n",
        "        break\n",
        "else:\n",
        "    print(\" العمود 'sales' غير موجود في الملف.\")\n"
      ],
      "metadata": {
        "colab": {
          "base_uri": "https://localhost:8080/"
        },
        "id": "PYKR6DBJe5xf",
        "outputId": "c348e622-67d9-4a42-9ad9-445b2514754a"
      },
      "execution_count": null,
      "outputs": [
        {
          "output_type": "stream",
          "name": "stdout",
          "text": [
            " العمود 'sales' غير موجود في الملف.\n"
          ]
        }
      ]
    },
    {
      "cell_type": "code",
      "source": [
        "import pandas as pd\n",
        "\n",
        "file_path = \"/content/sales_cleaned.csv\"\n",
        "chunk_size = 10000\n",
        "\n",
        "output_file = \"/content/sales_no_outliers1.csv\"\n",
        "\n",
        "with open(output_file, 'w') as f_out:\n",
        "    first_chunk = True\n",
        "\n",
        "    for chunk in pd.read_csv(file_path, chunksize=chunk_size):\n",
        "        if 'date' in chunk.columns:\n",
        "            chunk['date'] = pd.to_datetime(chunk['date'], errors='coerce')\n",
        "\n",
        "            chunk['date_numeric'] = (chunk['date'] - pd.Timestamp(\"2000-01-01\")) // pd.Timedelta('1D')\n",
        "\n",
        "        chunk.to_csv(f_out, index=False, header=first_chunk, mode='a')\n",
        "        first_chunk = False\n",
        "\n",
        "print(f\" تم تحويل عمود 'date' إلى عدد أيام وحفظ البيانات في '{output_file}'\")\n"
      ],
      "metadata": {
        "colab": {
          "base_uri": "https://localhost:8080/"
        },
        "id": "eQQcP5sok4uk",
        "outputId": "de504c66-8865-4580-bd30-0af72c627ea5"
      },
      "execution_count": null,
      "outputs": [
        {
          "output_type": "stream",
          "name": "stdout",
          "text": [
            " تم تحويل عمود 'date' إلى عدد أيام وحفظ البيانات في '/content/sales_no_outliers1.csv'\n"
          ]
        }
      ]
    },
    {
      "cell_type": "code",
      "source": [
        "import pandas as pd\n",
        "import matplotlib.pyplot as plt\n",
        "import seaborn as sns\n",
        "\n",
        "file_path = \"/content/sales_no_outliers1.csv\"\n",
        "chunk_size = 20000\n",
        "\n",
        "summary_stats = []\n",
        "for chunk in pd.read_csv(file_path, chunksize=chunk_size):\n",
        "    summary_stats.append(chunk.describe())\n",
        "\n",
        "print(pd.concat(summary_stats).groupby(level=0).mean())\n",
        "\n",
        "corr_matrices = []\n",
        "for chunk in pd.read_csv(file_path, chunksize=chunk_size):\n",
        "    numeric_chunk = chunk.select_dtypes(include=['number'])\n",
        "    corr_matrices.append(numeric_chunk.corr())\n",
        "\n",
        "mean_corr_matrix = pd.concat(corr_matrices).groupby(level=0).mean()\n",
        "\n",
        "sns.heatmap(mean_corr_matrix, annot=True, cmap='coolwarm')\n",
        "plt.show()\n",
        "\n",
        "sales_trend = {}\n",
        "for chunk in pd.read_csv(file_path, chunksize=chunk_size):\n",
        "    if 'date' in chunk.columns and 'num_pieces_sold' in chunk.columns:\n",
        "        chunk['date'] = pd.to_datetime(chunk['date'], errors='coerce')\n",
        "        daily_sales = chunk.groupby('date')['num_pieces_sold'].sum()\n",
        "        for date, sales in daily_sales.items():\n",
        "            sales_trend[date] = sales_trend.get(date, 0) + sales\n",
        "\n",
        "sales_df = pd.DataFrame(list(sales_trend.items()), columns=['date', 'num_pieces_sold'])\n",
        "sales_df.sort_values('date', inplace=True)\n",
        "sales_df.plot(x='date', y='num_pieces_sold', kind='line', title=\"Number of Pieces Sold Over Time\")\n",
        "plt.xlabel(\"Date\")\n",
        "plt.ylabel(\"Number of Pieces Sold\")\n",
        "plt.show()\n"
      ],
      "metadata": {
        "colab": {
          "base_uri": "https://localhost:8080/",
          "height": 1000
        },
        "id": "xhwYYm6bhjqg",
        "outputId": "71050fa1-82a4-491c-f0d0-2a2e535f634c"
      },
      "execution_count": null,
      "outputs": [
        {
          "output_type": "stream",
          "name": "stdout",
          "text": [
            "           order_id    product_id     seller_id  num_pieces_sold  date_numeric\n",
            "25%    1.000500e+07    767.479021      0.122627        25.499001   8219.000000\n",
            "50%    1.000999e+07   1533.261738      0.204795        50.484016   8221.504995\n",
            "75%    1.001499e+07   2305.248751      0.287962        75.506993   8224.000999\n",
            "count  1.998006e+04  19980.059940  19980.059940     19980.059940  19980.059940\n",
            "max    1.001998e+07   8741.263736      1.060939       100.000000   8226.000000\n",
            "mean   1.000999e+07   1909.657384      0.254737        50.500158   8221.500001\n",
            "min    1.000000e+07      0.371628      0.040959         1.000000   8217.000000\n",
            "std    5.767891e+03   1715.863756      0.213196        28.866993      2.872515\n"
          ]
        },
        {
          "output_type": "display_data",
          "data": {
            "text/plain": [
              "<Figure size 640x480 with 2 Axes>"
            ],
            "image/png": "[encoded data removed]"
          },
          "metadata": {}
        },
        {
          "output_type": "display_data",
          "data": {
            "text/plain": [
              "<Figure size 640x480 with 1 Axes>"
            ],
            "image/png": "[encoded data removed]"
          },
          "metadata": {}
        }
      ]
    },
    {
      "cell_type": "code",
      "source": [
        "import pandas as pd\n",
        "from sklearn.model_selection import train_test_split\n",
        "from sklearn.tree import DecisionTreeRegressor\n",
        "from sklearn.metrics import mean_absolute_error, mean_squared_error, r2_score\n",
        "\n",
        "file_path = \"/content/sales_no_outliers1.csv\"\n",
        "chunk_size = 8000\n",
        "\n",
        "use_cols = ['order_id', 'product_id', 'seller_id', 'num_pieces_sold', 'date_numeric']\n",
        "\n",
        "data_chunks = []\n",
        "\n",
        "for chunk in pd.read_csv(file_path, usecols=use_cols, chunksize=chunk_size):\n",
        "    chunk['date_numeric'] = chunk['date_numeric'].astype(int)\n",
        "\n",
        "    data_chunks.append(chunk)\n",
        "\n",
        "df = pd.concat(data_chunks, ignore_index=True)\n",
        "\n",
        "features = ['order_id', 'product_id', 'seller_id', 'date_numeric']\n",
        "target = 'num_pieces_sold'\n",
        "\n",
        "X_train, X_test, y_train, y_test = train_test_split(df[features], df[target], test_size=0.2, random_state=42)\n",
        "\n",
        "print(f\"عدد العينات في التدريب: {len(X_train)}, وعدد العينات في الاختبار: {len(X_test)}\")\n",
        "\n",
        "dt_model = DecisionTreeRegressor(max_depth=10,min_samples_split=10, random_state=42)\n",
        "dt_model.fit(X_train, y_train)\n",
        "\n",
        "y_pred_dt = dt_model.predict(X_test)\n",
        "\n",
        "mae_dt = mean_absolute_error(y_test, y_pred_dt)\n",
        "mse_dt = mean_squared_error(y_test, y_pred_dt)\n",
        "r2_dt = r2_score(y_test, y_pred_dt)\n",
        "\n",
        "print(f\"\\n **أداء النموذج:**\")\n",
        "print(f\" MAE: {mae_dt:.2f}\")\n",
        "print(f\" MSE: {mse_dt:.2f}\")\n",
        "print(f\" R² Score: {r2_dt:.2f}\")\n"
      ],
      "metadata": {
        "colab": {
          "base_uri": "https://localhost:8080/"
        },
        "id": "6iZY4zZqu-F8",
        "outputId": "6fe40364-73b6-458b-e357-b5851b29e2b9"
      },
      "execution_count": null,
      "outputs": [
        {
          "output_type": "stream",
          "name": "stdout",
          "text": [
            "عدد العينات في التدريب: 16000032, وعدد العينات في الاختبار: 4000008\n",
            "\n",
            " **أداء النموذج:**\n",
            " MAE: 25.00\n",
            " MSE: 833.13\n",
            " R² Score: -0.00\n"
          ]
        }
      ]
    },
    {
      "cell_type": "code",
      "source": [
        "import pandas as pd\n",
        "from sklearn.model_selection import train_test_split\n",
        "from sklearn.tree import DecisionTreeRegressor\n",
        "from sklearn.metrics import mean_absolute_error, mean_squared_error, r2_score\n",
        "\n",
        "# ✅ تحميل البيانات باستخدام `chunksize`\n",
        "file_path = \"/content/sales_no_outliers1.csv\"\n",
        "chunk_size = 8000\n",
        "\n",
        "# ✅ تحديد الأعمدة المطلوبة\n",
        "use_cols = ['order_id', 'product_id', 'seller_id', 'num_pieces_sold', 'date_numeric']\n",
        "\n",
        "# قوائم لتخزين البيانات\n",
        "data_chunks = []\n",
        "\n",
        "for chunk in pd.read_csv(file_path, usecols=use_cols, chunksize=chunk_size):\n",
        "    # ✅ تحويل `product_id` و `seller_id` إلى تصنيفات رقمية داخل كل جزء فقط\n",
        "    chunk['product_id'] = chunk['product_id'].astype('category').cat.codes\n",
        "    chunk['seller_id'] = chunk['seller_id'].astype('category').cat.codes\n",
        "\n",
        "    # ✅ التأكد من أن `order_id` رقمي إذا كان نصيًا\n",
        "    if chunk['order_id'].dtype == 'object':\n",
        "        chunk['order_id'] = chunk['order_id'].astype('category').cat.codes\n",
        "\n",
        "    # ✅ تحويل `date_numeric` إلى عدد صحيح\n",
        "    chunk['date_numeric'] = chunk['date_numeric'].astype(int)\n",
        "\n",
        "    # ✅ إضافة الجزء المعالج إلى القائمة\n",
        "    data_chunks.append(chunk)\n",
        "\n",
        "# ✅ دمج جميع الأجزاء إلى DataFrame واحد\n",
        "df = pd.concat(data_chunks, ignore_index=True)\n",
        "\n",
        "# ✅ تحديد الميزات والمتغير المستهدف\n",
        "features = ['order_id', 'product_id', 'seller_id', 'date_numeric']\n",
        "target = 'num_pieces_sold'\n",
        "\n",
        "# ✅ تقسيم البيانات إلى تدريب (80٪) واختبار (20٪)\n",
        "X_train, X_test, y_train, y_test = train_test_split(df[features], df[target], test_size=0.2, random_state=42)\n",
        "\n",
        "print(f\"عدد العينات في التدريب: {len(X_train)}, وعدد العينات في الاختبار: {len(X_test)}\")\n",
        "\n",
        "# ✅ تدريب نموذج Decision Tree\n",
        "dt_model = DecisionTreeRegressor(max_depth=10,min_samples_split=10, random_state=42)\n",
        "dt_model.fit(X_train, y_train)\n",
        "\n",
        "# ✅ التنبؤ على بيانات الاختبار\n",
        "y_pred_dt = dt_model.predict(X_test)\n",
        "\n",
        "# ✅ تقييم النموذج\n",
        "mae_dt = mean_absolute_error(y_test, y_pred_dt)\n",
        "mse_dt = mean_squared_error(y_test, y_pred_dt)\n",
        "r2_dt = r2_score(y_test, y_pred_dt)\n",
        "\n",
        "print(f\"\\n📊 **أداء النموذج:**\")\n",
        "print(f\"✅ MAE: {mae_dt:.2f}\")\n",
        "print(f\"✅ MSE: {mse_dt:.2f}\")\n",
        "print(f\"✅ R² Score: {r2_dt:.2f}\")\n"
      ],
      "metadata": {
        "colab": {
          "base_uri": "https://localhost:8080/"
        },
        "id": "UEajOMgT4wqO",
        "outputId": "5e8d43b5-bbdc-43ea-9244-c983c3f002db"
      },
      "execution_count": null,
      "outputs": [
        {
          "output_type": "stream",
          "name": "stdout",
          "text": [
            "عدد العينات في التدريب: 16000032, وعدد العينات في الاختبار: 4000008\n"
          ]
        }
      ]
    },
    {
      "cell_type": "code",
      "source": [],
      "metadata": {
        "id": "XHVsu3I9XyxN"
      },
      "execution_count": null,
      "outputs": []
    },
    {
      "cell_type": "code",
      "source": [],
      "metadata": {
        "id": "PI018OENXzM7"
      },
      "execution_count": null,
      "outputs": []
    },
    {
      "cell_type": "code",
      "source": [
        "import pandas as pd\n",
        "import numpy as np\n",
        "from sklearn.model_selection import train_test_split\n",
        "from sklearn.ensemble import RandomForestRegressor\n",
        "from sklearn.preprocessing import StandardScaler\n",
        "from sklearn.metrics import mean_absolute_error, mean_squared_error, r2_score\n",
        "import joblib  # لحفظ النموذج بعد التدريب\n",
        "\n",
        "# ✅ تحميل البيانات بطريقة أسرع باستخدام `dtype`\n",
        "file_path = \"/content/sales_no_outliers1.csv\"\n",
        "chunk_size = 8000\n",
        "\n",
        "# ✅ تحديد أنواع البيانات لتوفير الذاكرة\n",
        "dtypes = {\n",
        "    'order_id': 'int32',\n",
        "    'product_id': 'int32',\n",
        "    'seller_id': 'int16',\n",
        "    'num_pieces_sold': 'int16',\n",
        "    'date_numeric': 'int32'\n",
        "}\n",
        "\n",
        "# ✅ تحميل البيانات باستخدام `chunksize`\n",
        "data_chunks = []\n",
        "for chunk in pd.read_csv(file_path, usecols=dtypes.keys(), dtype=dtypes, chunksize=chunk_size):\n",
        "    data_chunks.append(chunk)\n",
        "\n",
        "# ✅ دمج جميع الأجزاء إلى DataFrame واحد\n",
        "df = pd.concat(data_chunks, ignore_index=True)\n",
        "\n",
        "# ✅ إنشاء ميزة جديدة (تحويل `date_numeric` إلى يوم الأسبوع)\n",
        "df['week_day'] = df['date_numeric'] % 7  # نفترض أنه رقم تسلسلي للأيام\n",
        "\n",
        "# ✅ تحديد الميزات والمتغير المستهدف\n",
        "features = ['order_id', 'product_id', 'seller_id', 'date_numeric', 'week_day']\n",
        "target = 'num_pieces_sold'\n",
        "\n",
        "# ✅ أخذ **عينة صغيرة عشوائية** (مثلاً 2 مليون عينة بدلًا من 20 مليون)\n",
        "df_sample = df.sample(n=15_000_000, random_state=42)  # أخذ جزء صغير فقط\n",
        "\n",
        "# ✅ تقسيم البيانات إلى تدريب (80٪) واختبار (20٪)\n",
        "X_train, X_test, y_train, y_test = train_test_split(df_sample[features], df_sample[target], test_size=0.2, random_state=42)\n",
        "\n",
        "print(f\"عدد العينات في التدريب: {len(X_train)}, وعدد العينات في الاختبار: {len(X_test)}\")\n",
        "\n",
        "# ✅ تطبيع البيانات باستخدام `StandardScaler`\n",
        "scaler = StandardScaler()\n",
        "X_train_scaled = scaler.fit_transform(X_train)\n",
        "X_test_scaled = scaler.transform(X_test)\n",
        "\n",
        "# ✅ تدريب نموذج Random Forest مع تحسين المعلمات\n",
        "rf_model = RandomForestRegressor(\n",
        "    n_estimators=50,       # تقليل عدد الأشجار لزيادة السرعة\n",
        "    max_depth=15,          # تقليل العمق لتسريع التدريب\n",
        "    min_samples_split=10,  # منع الإفراط في التدريب\n",
        "    min_samples_leaf=10,   # جعل الأوراق أكبر قليلًا\n",
        "    random_state=42,\n",
        "    n_jobs=-1              # استخدام كل المعالجات المتاحة\n",
        ")\n",
        "rf_model.fit(X_train_scaled, y_train)\n",
        "\n",
        "# ✅ حفظ النموذج لتجنب إعادة التدريب\n",
        "joblib.dump(rf_model, \"/content/random_forest_model.pkl\")\n",
        "\n",
        "# ✅ التنبؤ على بيانات الاختبار\n",
        "y_pred_rf = rf_model.predict(X_test_scaled)\n",
        "\n",
        "# ✅ تقييم أداء النموذج\n",
        "mae_rf = mean_absolute_error(y_test, y_pred_rf)\n",
        "mse_rf = mean_squared_error(y_test, y_pred_rf)\n",
        "r2_rf = r2_score(y_test, y_pred_rf)\n",
        "\n",
        "print(f\"\\n **أداء نموذج Random Forest بعد التحسين:**\")\n",
        "print(f\" MAE: {mae_rf:.2f}\")\n",
        "print(f\" MSE: {mse_rf:.2f}\")\n",
        "print(f\" R² Score: {r2_rf:.2f}\")\n"
      ],
      "metadata": {
        "colab": {
          "base_uri": "https://localhost:8080/"
        },
        "id": "2udrHtH6TfJS",
        "outputId": "b6596ec3-2246-46ad-ea78-b19e30a71adf"
      },
      "execution_count": null,
      "outputs": [
        {
          "output_type": "stream",
          "name": "stdout",
          "text": [
            "عدد العينات في التدريب: 12000000, وعدد العينات في الاختبار: 3000000\n",
            "\n",
            " **أداء نموذج Random Forest بعد التحسين:**\n",
            " MAE: 25.01\n",
            " MSE: 833.98\n",
            " R² Score: -0.00\n"
          ]
        }
      ]
    },
    {
      "cell_type": "code",
      "source": [
        "from sklearn.ensemble import RandomForestRegressor\n",
        "from sklearn.preprocessing import OneHotEncoder\n",
        "from sklearn.compose import ColumnTransformer\n",
        "from sklearn.pipeline import Pipeline\n",
        "\n",
        "# تحويل الميزات الفئوية باستخدام OneHotEncoding\n",
        "categorical_features = ['product_id', 'seller_id']\n",
        "numerical_features = ['order_id', 'date_numeric']\n",
        "\n",
        "preprocessor = ColumnTransformer(\n",
        "    transformers=[\n",
        "        ('num', 'passthrough', numerical_features),\n",
        "        ('cat', OneHotEncoder(handle_unknown='ignore'), categorical_features)\n",
        "    ])\n",
        "\n",
        "# إنشاء خط أنابيب (Pipeline) يتضمن المعالجة المسبقة والنموذج\n",
        "model = Pipeline(steps=[\n",
        "    ('preprocessor', preprocessor),\n",
        "    ('regressor', RandomForestRegressor(n_estimators=100, random_state=42))\n",
        "])\n",
        "\n",
        "# تدريب النموذج\n",
        "model.fit(X_train, y_train)\n",
        "\n",
        "# التنبؤ على بيانات الاختبار\n",
        "y_pred = model.predict(X_test)\n",
        "\n",
        "# تقييم النموذج\n",
        "mae = mean_absolute_error(y_test, y_pred)\n",
        "mse = mean_squared_error(y_test, y_pred)\n",
        "r2 = r2_score(y_test, y_pred)\n",
        "\n",
        "print(f\"\\n **أداء النموذج بعد التحسين:**\")\n",
        "print(f\" MAE: {mae:.2f}\")\n",
        "print(f\" MSE: {mse:.2f}\")\n",
        "print(f\" R² Score: {r2:.2f}\")"
      ],
      "metadata": {
        "colab": {
          "base_uri": "https://localhost:8080/",
          "height": 211
        },
        "id": "efhrPeI9TIr5",
        "outputId": "a90ebf76-cdb3-4844-8b05-2a01055adeef"
      },
      "execution_count": null,
      "outputs": [
        {
          "output_type": "error",
          "ename": "NameError",
          "evalue": "name 'X_train' is not defined",
          "traceback": [
            "\u001b[0;31m---------------------------------------------------------------------------\u001b[0m",
            "\u001b[0;31mNameError\u001b[0m                                 Traceback (most recent call last)",
            "\u001b[0;32m<ipython-input-9-f0624f2b51a6>\u001b[0m in \u001b[0;36m<cell line: 0>\u001b[0;34m()\u001b[0m\n\u001b[1;32m     21\u001b[0m \u001b[0;34m\u001b[0m\u001b[0m\n\u001b[1;32m     22\u001b[0m \u001b[0;31m# تدريب النموذج\u001b[0m\u001b[0;34m\u001b[0m\u001b[0;34m\u001b[0m\u001b[0m\n\u001b[0;32m---> 23\u001b[0;31m \u001b[0mmodel\u001b[0m\u001b[0;34m.\u001b[0m\u001b[0mfit\u001b[0m\u001b[0;34m(\u001b[0m\u001b[0mX_train\u001b[0m\u001b[0;34m,\u001b[0m \u001b[0my_train\u001b[0m\u001b[0;34m)\u001b[0m\u001b[0;34m\u001b[0m\u001b[0;34m\u001b[0m\u001b[0m\n\u001b[0m\u001b[1;32m     24\u001b[0m \u001b[0;34m\u001b[0m\u001b[0m\n\u001b[1;32m     25\u001b[0m \u001b[0;31m# التنبؤ على بيانات الاختبار\u001b[0m\u001b[0;34m\u001b[0m\u001b[0;34m\u001b[0m\u001b[0m\n",
            "\u001b[0;31mNameError\u001b[0m: name 'X_train' is not defined"
          ]
        }
      ]
    },
    {
      "cell_type": "code",
      "source": [
        "import pandas as pd\n",
        "import numpy as np\n",
        "from sklearn.model_selection import train_test_split\n",
        "from sklearn.ensemble import RandomForestRegressor\n",
        "from sklearn.preprocessing import StandardScaler\n",
        "from sklearn.metrics import mean_absolute_error, mean_squared_error, r2_score\n",
        "\n",
        "# ✅ تحميل البيانات باستخدام `chunksize`\n",
        "file_path = \"/content/sales_no_outliers1.csv\"\n",
        "chunk_size = 8000\n",
        "\n",
        "# ✅ تحديد الأعمدة المطلوبة\n",
        "use_cols = ['order_id', 'product_id', 'seller_id', 'num_pieces_sold', 'date_numeric']\n",
        "\n",
        "# قوائم لتخزين البيانات\n",
        "data_chunks = []\n",
        "\n",
        "for chunk in pd.read_csv(file_path, usecols=use_cols, chunksize=chunk_size):\n",
        "    chunk['date_numeric'] = chunk['date_numeric'].astype(int)  # التأكد من أن `date_numeric` عدد صحيح\n",
        "    data_chunks.append(chunk)\n",
        "\n",
        "# ✅ دمج جميع الأجزاء إلى DataFrame واحد\n",
        "df = pd.concat(data_chunks, ignore_index=True)\n",
        "\n",
        "# ✅ إنشاء ميزات جديدة (تحويل التاريخ إلى يوم الأسبوع)\n",
        "df['week_day'] = df['date_numeric'] % 7  # تبسيطًا، نفترض أن القيم تعبر عن أيام متسلسلة\n",
        "\n",
        "# ✅ تحديد الميزات والمتغير المستهدف\n",
        "features = ['order_id', 'product_id', 'seller_id', 'date_numeric', 'week_day']\n",
        "target = 'num_pieces_sold'\n",
        "\n",
        "# ✅ تقسيم البيانات إلى تدريب (80٪) واختبار (20٪)\n",
        "X_train, X_test, y_train, y_test = train_test_split(df[features], df[target], test_size=0.2, random_state=42)\n",
        "\n",
        "print(f\"عدد العينات في التدريب: {len(X_train)}, وعدد العينات في الاختبار: {len(X_test)}\")\n",
        "\n",
        "# ✅ تطبيع البيانات لتحسين أداء النموذج\n",
        "scaler = StandardScaler()\n",
        "X_train_scaled = scaler.fit_transform(X_train)\n",
        "X_test_scaled = scaler.transform(X_test)\n",
        "\n",
        "# ✅ تدريب نموذج Random Forest بعد تحسين المعلمات\n",
        "rf_model = RandomForestRegressor(\n",
        "    n_estimators=150,       # زيادة عدد الأشجار لتحسين الدقة\n",
        "    max_depth=20,           # تعميق الشجرة لمزيد من الدقة\n",
        "    min_samples_split=5,    # تقليل الحد الأدنى للتقسيم لتجنب التقسيم المفرط\n",
        "    min_samples_leaf=5,     # تقليل عدد العينات في الورقة لتجنب التعقيد الزائد\n",
        "    random_state=42,\n",
        "    n_jobs=-1               # استخدام جميع الأنوية المتاحة لتسريع التدريب\n",
        ")\n",
        "rf_model.fit(X_train_scaled, y_train)\n",
        "\n",
        "# ✅ التنبؤ على بيانات الاختبار\n",
        "y_pred_rf = rf_model.predict(X_test_scaled)\n",
        "\n",
        "# ✅ تقييم أداء النموذج\n",
        "mae_rf = mean_absolute_error(y_test, y_pred_rf)\n",
        "mse_rf = mean_squared_error(y_test, y_pred_rf)\n",
        "r2_rf = r2_score(y_test, y_pred_rf)\n",
        "\n",
        "print(f\"\\n **أداء نموذج Random Forest:**\")\n",
        "print(f\" MAE: {mae_rf:.2f}\")\n",
        "print(f\" MSE: {mse_rf:.2f}\")\n",
        "print(f\" R² Score: {r2_rf:.2f}\")\n"
      ],
      "metadata": {
        "id": "pR3wiwQYCL9Q"
      },
      "execution_count": null,
      "outputs": []
    },
    {
      "cell_type": "code",
      "source": [
        "import pandas as pd\n",
        "from sklearn.model_selection import train_test_split\n",
        "from sklearn.preprocessing import LabelEncoder\n",
        "from sklearn.tree import DecisionTreeRegressor\n",
        "from sklearn.linear_model import LinearRegression\n",
        "from sklearn.metrics import mean_absolute_error, mean_squared_error, r2_score\n",
        "\n",
        "# ✅ تحميل البيانات\n",
        "file_path = \"/content/sales_no_outliers1.csv\"\n",
        "df = pd.read_csv(file_path)\n",
        "\n",
        "# ✅ تحويل التاريخ إلى عدد أيام منذ 1970\n",
        "\"\"\"df['date'] = pd.to_datetime(df['date'], errors='coerce')\n",
        "df['date_numeric'] = (df['date'] - pd.Timestamp(\"1970-01-01\")) // pd.Timedelta('1D')\n",
        "\n",
        "# ✅ تحويل معرفات المنتج والبائع إلى أرقام إذا لم تكن بالفعل رقمية\n",
        "le_product = LabelEncoder()\n",
        "df['product_id'] = le_product.fit_transform(df['product_id'])\n",
        "\n",
        "le_seller = LabelEncoder()\n",
        "df['seller_id'] = le_seller.fit_transform(df['seller_id'])\"\"\"\n",
        "\n",
        "# ✅ تحديد الميزات والمتغير المستهدف\n",
        "features = ['product_id', 'seller_id', 'date_numeric', 'order_id']\n",
        "target = 'num_pieces_sold'\n",
        "\n",
        "X = df[features]\n",
        "y = df[target]\n",
        "\n",
        "# ✅ تقسيم البيانات إلى تدريب (80٪) واختبار (20٪)\n",
        "X_train, X_test, y_train, y_test = train_test_split(X, y, test_size=0.2, random_state=42)\n",
        "\n"
      ],
      "metadata": {
        "id": "x3OO6utwtENl",
        "colab": {
          "base_uri": "https://localhost:8080/",
          "height": 373
        },
        "outputId": "5441854e-abea-40c8-ee9b-06462bc530b8"
      },
      "execution_count": null,
      "outputs": [
        {
          "output_type": "error",
          "ename": "FileNotFoundError",
          "evalue": "[Errno 2] No such file or directory: '/content/sales_no_outliers1.csv'",
          "traceback": [
            "\u001b[0;31m---------------------------------------------------------------------------\u001b[0m",
            "\u001b[0;31mFileNotFoundError\u001b[0m                         Traceback (most recent call last)",
            "\u001b[0;32m<ipython-input-1-547a499d196d>\u001b[0m in \u001b[0;36m<cell line: 0>\u001b[0;34m()\u001b[0m\n\u001b[1;32m      8\u001b[0m \u001b[0;31m# ✅ تحميل البيانات\u001b[0m\u001b[0;34m\u001b[0m\u001b[0;34m\u001b[0m\u001b[0m\n\u001b[1;32m      9\u001b[0m \u001b[0mfile_path\u001b[0m \u001b[0;34m=\u001b[0m \u001b[0;34m\"/content/sales_no_outliers1.csv\"\u001b[0m\u001b[0;34m\u001b[0m\u001b[0;34m\u001b[0m\u001b[0m\n\u001b[0;32m---> 10\u001b[0;31m \u001b[0mdf\u001b[0m \u001b[0;34m=\u001b[0m \u001b[0mpd\u001b[0m\u001b[0;34m.\u001b[0m\u001b[0mread_csv\u001b[0m\u001b[0;34m(\u001b[0m\u001b[0mfile_path\u001b[0m\u001b[0;34m)\u001b[0m\u001b[0;34m\u001b[0m\u001b[0;34m\u001b[0m\u001b[0m\n\u001b[0m\u001b[1;32m     11\u001b[0m \u001b[0;34m\u001b[0m\u001b[0m\n\u001b[1;32m     12\u001b[0m \u001b[0;31m# ✅ تحويل التاريخ إلى عدد أيام منذ 1970\u001b[0m\u001b[0;34m\u001b[0m\u001b[0;34m\u001b[0m\u001b[0m\n",
            "\u001b[0;32m/usr/local/lib/python3.11/dist-packages/pandas/io/parsers/readers.py\u001b[0m in \u001b[0;36mread_csv\u001b[0;34m(filepath_or_buffer, sep, delimiter, header, names, index_col, usecols, dtype, engine, converters, true_values, false_values, skipinitialspace, skiprows, skipfooter, nrows, na_values, keep_default_na, na_filter, verbose, skip_blank_lines, parse_dates, infer_datetime_format, keep_date_col, date_parser, date_format, dayfirst, cache_dates, iterator, chunksize, compression, thousands, decimal, lineterminator, quotechar, quoting, doublequote, escapechar, comment, encoding, encoding_errors, dialect, on_bad_lines, delim_whitespace, low_memory, memory_map, float_precision, storage_options, dtype_backend)\u001b[0m\n\u001b[1;32m   1024\u001b[0m     \u001b[0mkwds\u001b[0m\u001b[0;34m.\u001b[0m\u001b[0mupdate\u001b[0m\u001b[0;34m(\u001b[0m\u001b[0mkwds_defaults\u001b[0m\u001b[0;34m)\u001b[0m\u001b[0;34m\u001b[0m\u001b[0;34m\u001b[0m\u001b[0m\n\u001b[1;32m   1025\u001b[0m \u001b[0;34m\u001b[0m\u001b[0m\n\u001b[0;32m-> 1026\u001b[0;31m     \u001b[0;32mreturn\u001b[0m \u001b[0m_read\u001b[0m\u001b[0;34m(\u001b[0m\u001b[0mfilepath_or_buffer\u001b[0m\u001b[0;34m,\u001b[0m \u001b[0mkwds\u001b[0m\u001b[0;34m)\u001b[0m\u001b[0;34m\u001b[0m\u001b[0;34m\u001b[0m\u001b[0m\n\u001b[0m\u001b[1;32m   1027\u001b[0m \u001b[0;34m\u001b[0m\u001b[0m\n\u001b[1;32m   1028\u001b[0m \u001b[0;34m\u001b[0m\u001b[0m\n",
            "\u001b[0;32m/usr/local/lib/python3.11/dist-packages/pandas/io/parsers/readers.py\u001b[0m in \u001b[0;36m_read\u001b[0;34m(filepath_or_buffer, kwds)\u001b[0m\n\u001b[1;32m    618\u001b[0m \u001b[0;34m\u001b[0m\u001b[0m\n\u001b[1;32m    619\u001b[0m     \u001b[0;31m# Create the parser.\u001b[0m\u001b[0;34m\u001b[0m\u001b[0;34m\u001b[0m\u001b[0m\n\u001b[0;32m--> 620\u001b[0;31m     \u001b[0mparser\u001b[0m \u001b[0;34m=\u001b[0m \u001b[0mTextFileReader\u001b[0m\u001b[0;34m(\u001b[0m\u001b[0mfilepath_or_buffer\u001b[0m\u001b[0;34m,\u001b[0m \u001b[0;34m**\u001b[0m\u001b[0mkwds\u001b[0m\u001b[0;34m)\u001b[0m\u001b[0;34m\u001b[0m\u001b[0;34m\u001b[0m\u001b[0m\n\u001b[0m\u001b[1;32m    621\u001b[0m \u001b[0;34m\u001b[0m\u001b[0m\n\u001b[1;32m    622\u001b[0m     \u001b[0;32mif\u001b[0m \u001b[0mchunksize\u001b[0m \u001b[0;32mor\u001b[0m \u001b[0miterator\u001b[0m\u001b[0;34m:\u001b[0m\u001b[0;34m\u001b[0m\u001b[0;34m\u001b[0m\u001b[0m\n",
            "\u001b[0;32m/usr/local/lib/python3.11/dist-packages/pandas/io/parsers/readers.py\u001b[0m in \u001b[0;36m__init__\u001b[0;34m(self, f, engine, **kwds)\u001b[0m\n\u001b[1;32m   1618\u001b[0m \u001b[0;34m\u001b[0m\u001b[0m\n\u001b[1;32m   1619\u001b[0m         \u001b[0mself\u001b[0m\u001b[0;34m.\u001b[0m\u001b[0mhandles\u001b[0m\u001b[0;34m:\u001b[0m \u001b[0mIOHandles\u001b[0m \u001b[0;34m|\u001b[0m \u001b[0;32mNone\u001b[0m \u001b[0;34m=\u001b[0m \u001b[0;32mNone\u001b[0m\u001b[0;34m\u001b[0m\u001b[0;34m\u001b[0m\u001b[0m\n\u001b[0;32m-> 1620\u001b[0;31m         \u001b[0mself\u001b[0m\u001b[0;34m.\u001b[0m\u001b[0m_engine\u001b[0m \u001b[0;34m=\u001b[0m \u001b[0mself\u001b[0m\u001b[0;34m.\u001b[0m\u001b[0m_make_engine\u001b[0m\u001b[0;34m(\u001b[0m\u001b[0mf\u001b[0m\u001b[0;34m,\u001b[0m \u001b[0mself\u001b[0m\u001b[0;34m.\u001b[0m\u001b[0mengine\u001b[0m\u001b[0;34m)\u001b[0m\u001b[0;34m\u001b[0m\u001b[0;34m\u001b[0m\u001b[0m\n\u001b[0m\u001b[1;32m   1621\u001b[0m \u001b[0;34m\u001b[0m\u001b[0m\n\u001b[1;32m   1622\u001b[0m     \u001b[0;32mdef\u001b[0m \u001b[0mclose\u001b[0m\u001b[0;34m(\u001b[0m\u001b[0mself\u001b[0m\u001b[0;34m)\u001b[0m \u001b[0;34m->\u001b[0m \u001b[0;32mNone\u001b[0m\u001b[0;34m:\u001b[0m\u001b[0;34m\u001b[0m\u001b[0;34m\u001b[0m\u001b[0m\n",
            "\u001b[0;32m/usr/local/lib/python3.11/dist-packages/pandas/io/parsers/readers.py\u001b[0m in \u001b[0;36m_make_engine\u001b[0;34m(self, f, engine)\u001b[0m\n\u001b[1;32m   1878\u001b[0m                 \u001b[0;32mif\u001b[0m \u001b[0;34m\"b\"\u001b[0m \u001b[0;32mnot\u001b[0m \u001b[0;32min\u001b[0m \u001b[0mmode\u001b[0m\u001b[0;34m:\u001b[0m\u001b[0;34m\u001b[0m\u001b[0;34m\u001b[0m\u001b[0m\n\u001b[1;32m   1879\u001b[0m                     \u001b[0mmode\u001b[0m \u001b[0;34m+=\u001b[0m \u001b[0;34m\"b\"\u001b[0m\u001b[0;34m\u001b[0m\u001b[0;34m\u001b[0m\u001b[0m\n\u001b[0;32m-> 1880\u001b[0;31m             self.handles = get_handle(\n\u001b[0m\u001b[1;32m   1881\u001b[0m                 \u001b[0mf\u001b[0m\u001b[0;34m,\u001b[0m\u001b[0;34m\u001b[0m\u001b[0;34m\u001b[0m\u001b[0m\n\u001b[1;32m   1882\u001b[0m                 \u001b[0mmode\u001b[0m\u001b[0;34m,\u001b[0m\u001b[0;34m\u001b[0m\u001b[0;34m\u001b[0m\u001b[0m\n",
            "\u001b[0;32m/usr/local/lib/python3.11/dist-packages/pandas/io/common.py\u001b[0m in \u001b[0;36mget_handle\u001b[0;34m(path_or_buf, mode, encoding, compression, memory_map, is_text, errors, storage_options)\u001b[0m\n\u001b[1;32m    871\u001b[0m         \u001b[0;32mif\u001b[0m \u001b[0mioargs\u001b[0m\u001b[0;34m.\u001b[0m\u001b[0mencoding\u001b[0m \u001b[0;32mand\u001b[0m \u001b[0;34m\"b\"\u001b[0m \u001b[0;32mnot\u001b[0m \u001b[0;32min\u001b[0m \u001b[0mioargs\u001b[0m\u001b[0;34m.\u001b[0m\u001b[0mmode\u001b[0m\u001b[0;34m:\u001b[0m\u001b[0;34m\u001b[0m\u001b[0;34m\u001b[0m\u001b[0m\n\u001b[1;32m    872\u001b[0m             \u001b[0;31m# Encoding\u001b[0m\u001b[0;34m\u001b[0m\u001b[0;34m\u001b[0m\u001b[0m\n\u001b[0;32m--> 873\u001b[0;31m             handle = open(\n\u001b[0m\u001b[1;32m    874\u001b[0m                 \u001b[0mhandle\u001b[0m\u001b[0;34m,\u001b[0m\u001b[0;34m\u001b[0m\u001b[0;34m\u001b[0m\u001b[0m\n\u001b[1;32m    875\u001b[0m                 \u001b[0mioargs\u001b[0m\u001b[0;34m.\u001b[0m\u001b[0mmode\u001b[0m\u001b[0;34m,\u001b[0m\u001b[0;34m\u001b[0m\u001b[0;34m\u001b[0m\u001b[0m\n",
            "\u001b[0;31mFileNotFoundError\u001b[0m: [Errno 2] No such file or directory: '/content/sales_no_outliers1.csv'"
          ]
        }
      ]
    }
  ]
}